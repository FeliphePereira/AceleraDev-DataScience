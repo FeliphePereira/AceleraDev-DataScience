{
 "cells": [
  {
   "cell_type": "code",
   "execution_count": 1,
   "metadata": {},
   "outputs": [],
   "source": [
    "import pandas as pd\n",
    "import numpy as np\n",
    "from sklearn.linear_model import LinearRegression"
   ]
  },
  {
   "cell_type": "code",
   "execution_count": 4,
   "metadata": {},
   "outputs": [],
   "source": [
    "x= pd.read_csv('train.csv',usecols=['NU_NOTA_CN','NU_NOTA_CH','NU_NOTA_LC','NU_NOTA_REDACAO'])\n",
    "y= pd.read_csv('train.csv',usecols=['NU_NOTA_MT'])\n",
    "X=x.fillna(0)\n",
    "Y=y.fillna(0)"
   ]
  },
  {
   "cell_type": "code",
   "execution_count": 5,
   "metadata": {},
   "outputs": [],
   "source": [
    "from sklearn.linear_model import LinearRegression\n",
    "modelo= LinearRegression(fit_intercept=True,normalize=False,copy_X=True).fit(X,Y)"
   ]
  },
  {
   "cell_type": "raw",
   "metadata": {},
   "source": [
    "xp=pd.read_csv('test.csv', usecols=['NU_NOTA_CN','NU_NOTA_CH','NU_NOTA_LC','NU_NOTA_REDACAO'])\n",
    "xpi=pd.read_csv('test.csv',usecols=['NU_INSCRICAO'])\n",
    "xpi.columns\n",
    "Xp=xp.fillna(0)\n",
    "y=modelo.predict(Xp)\n",
    "xpi['NU_NOTA_MT']=y\n",
    "xpi.shape\n",
    "xpi.to_csv('answer.csv',index=False)"
   ]
  }
 ],
 "metadata": {
  "kernelspec": {
   "display_name": "Python 3",
   "language": "python",
   "name": "python3"
  },
  "language_info": {
   "codemirror_mode": {
    "name": "ipython",
    "version": 3
   },
   "file_extension": ".py",
   "mimetype": "text/x-python",
   "name": "python",
   "nbconvert_exporter": "python",
   "pygments_lexer": "ipython3",
   "version": "3.7.6"
  }
 },
 "nbformat": 4,
 "nbformat_minor": 2
}
